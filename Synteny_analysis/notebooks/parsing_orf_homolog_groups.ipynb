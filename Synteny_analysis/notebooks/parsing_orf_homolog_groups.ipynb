{
 "cells": [
  {
   "cell_type": "markdown",
   "metadata": {},
   "source": [
    "# Overview\n",
    "\n",
    "Simple notebook made to create a table with RBHs between infered ORFs and annotated features by employing R's library *orthologr*. Homolog groups are then filtered in order to consider only those homolog groups that have at least one of its members being annotated in the original genome annotation (all other members being inferred ORFs). This procedure allows to include in our analyses ORFs not present in the original annotation if they show signal of homology to at least one feature of the original annotations."
   ]
  },
  {
   "cell_type": "code",
   "execution_count": 1,
   "metadata": {},
   "outputs": [
    {
     "name": "stderr",
     "output_type": "stream",
     "text": [
      "── \u001b[1mAttaching packages\u001b[22m ───────────────────────────────────────────────────────────────────────────── tidyverse 1.3.1 ──\n",
      "\n",
      "\u001b[32m✔\u001b[39m \u001b[34mggplot2\u001b[39m 3.3.3     \u001b[32m✔\u001b[39m \u001b[34mpurrr  \u001b[39m 0.3.4\n",
      "\u001b[32m✔\u001b[39m \u001b[34mtibble \u001b[39m 3.1.2     \u001b[32m✔\u001b[39m \u001b[34mdplyr  \u001b[39m 1.0.6\n",
      "\u001b[32m✔\u001b[39m \u001b[34mtidyr  \u001b[39m 1.1.3     \u001b[32m✔\u001b[39m \u001b[34mstringr\u001b[39m 1.4.0\n",
      "\u001b[32m✔\u001b[39m \u001b[34mreadr  \u001b[39m 1.4.0     \u001b[32m✔\u001b[39m \u001b[34mforcats\u001b[39m 0.5.1\n",
      "\n",
      "── \u001b[1mConflicts\u001b[22m ──────────────────────────────────────────────────────────────────────────────── tidyverse_conflicts() ──\n",
      "\u001b[31m✖\u001b[39m \u001b[34mdplyr\u001b[39m::\u001b[32mfilter()\u001b[39m masks \u001b[34mstats\u001b[39m::filter()\n",
      "\u001b[31m✖\u001b[39m \u001b[34mdplyr\u001b[39m::\u001b[32mlag()\u001b[39m    masks \u001b[34mstats\u001b[39m::lag()\n",
      "\n",
      "\n",
      "Attaching package: ‘magrittr’\n",
      "\n",
      "\n",
      "The following object is masked from ‘package:purrr’:\n",
      "\n",
      "    set_names\n",
      "\n",
      "\n",
      "The following object is masked from ‘package:tidyr’:\n",
      "\n",
      "    extract\n",
      "\n",
      "\n",
      "\n",
      "Attaching package: ‘glue’\n",
      "\n",
      "\n",
      "The following object is masked from ‘package:dplyr’:\n",
      "\n",
      "    collapse\n",
      "\n",
      "\n"
     ]
    },
    {
     "ename": "ERROR",
     "evalue": "Error in library(orthologr): there is no package called ‘orthologr’\n",
     "output_type": "error",
     "traceback": [
      "Error in library(orthologr): there is no package called ‘orthologr’\nTraceback:\n",
      "1. library(orthologr)"
     ]
    }
   ],
   "source": [
    "## loading libraries\n",
    "library(tidyverse)\n",
    "library(magrittr)\n",
    "library(glue)\n",
    "library(bioseq)\n",
    "library(orthologr)"
   ]
  },
  {
   "cell_type": "code",
   "execution_count": null,
   "metadata": {},
   "outputs": [],
   "source": [
    "# loading homologous groups and subsetting for those with more than two sequences\n",
    "relevant_groups.tibble = tibble(homologous_group_file = list.files('../results/MEs_predicted_orfs_homologues/ME_f0_0taxa_algOMCL_e1_C70_S35_', full.names = T, pattern = '.faa$')) %>%\n",
    "  dplyr::mutate(getting_sequence = pmap(list(homologous_group_file), ~{\n",
    "    sequences = bioseq::read_fasta(..1, type = 'AA') \n",
    "    labels = names(sequences)\n",
    "    #sequences %>% as_tibble() %>% dplyr::rename(sequence = 'value') %>% dplyr::mutate(label = labels, n_seqs = length(labels)) \n",
    "    sequences %>% as_tibble() %>% dplyr::mutate(label = labels, n_seqs = length(labels))\n",
    "  }\n",
    "                                       )\n",
    "               ) %>%\n",
    "  tidyr::unnest() %>%\n",
    "  dplyr::filter(n_seqs > 1) %>%\n",
    "  dplyr::mutate(label = label %>% str_split(' ') %>% purrr::map_chr(1))"
   ]
  },
  {
   "cell_type": "code",
   "execution_count": null,
   "metadata": {},
   "outputs": [],
   "source": [
    "# performing search for BRHs among predicted ORFs and annotated proteins. filtering with very stringent criteria in order to get good correspondence table\n",
    "## an example\n",
    "# listing annotated features\n",
    "# listing PATRIC annotated ORFs\n",
    "patric_annotated.tibble = tibble(annotated_features = list.files('../results/ME_PATRIC_annotated_features', pattern = '.faa$', full.names = T)) %>%\n",
    "    dplyr::mutate(tag = annotated_features %>% str_split('/') %>% purrr::map_chr(4) %>% str_replace_all(., '.PATRIC.*$', ''))\n",
    "\n",
    "# listing getorf ORFs\n",
    "getorf_annotated.tibble = tibble(predicted_ORFs = list.files('../results/MEs_predicted_orfs', pattern = '.faa$', full.names = T)) %>%\n",
    "    dplyr::mutate(tag = predicted_ORFs %>% str_split('/') %>% purrr::map_chr(4) %>% str_replace_all(., '.MAG.predicted_orfs.faa|.predicted_orfs.faa|.metagenome.predicted_orfs.faa', ''))\n",
    "\n",
    "# joining them\n",
    "joint_features.tibble = patric_annotated.tibble %>%\n",
    "    dplyr::left_join(x = .,\n",
    "                     y = getorf_annotated.tibble,\n",
    "                     by = c('tag')) %>%\n",
    "    dplyr::select(-tag)\n",
    "\n",
    "RBH.tibble = joint_features.tibble %>%\n",
    "rowwise() %>%\n",
    "dplyr::transmute(., parsing_tables = pmap(list(annotated_features, predicted_ORFs), ~{\n",
    "                                annotated_features = ..1\n",
    "                                predicted_ORFs = ..2\n",
    "                                \n",
    "                              RBH.tibble = orthologr::orthologs(query_file = annotated_features,\n",
    "                                        subject_files   = predicted_ORFs,\n",
    "                                        seq_type        = \"protein\", \n",
    "                                        ortho_detection = \"RBH\",\n",
    "                                        comp_cores      = 1,\n",
    "                                        clean_folders   = FALSE)\n",
    "                              \n",
    "                              # filtering table\n",
    "                              RBH.tibble \n",
    "                              })\n",
    "                 ) %>%\n",
    "  tidyr::unnest()\n",
    "\n",
    "# saving RBH.tibble\n",
    "RBH.tibble %>% readr::write_tsv(., '../results/MEs_annotated_features_vs_predicted_orfs_BRHs.tsv', col_names = T)"
   ]
  },
  {
   "cell_type": "code",
   "execution_count": null,
   "metadata": {},
   "outputs": [],
   "source": [
    "# filtering relevant homologous groups in order to get those with at least one member belonging to the annotated set of proteins\n",
    "filtered_groups = relevant_groups.tibble %>%\n",
    "  dplyr::filter(label %in% RBH.tibble$subject_id) %>% \n",
    "  .$homologous_group_file %>% unique()\n",
    "\n",
    "system('mkdir ../results/MEs_predicted_orfs_filtered_homologous_groups')\n",
    "\n",
    "# copying those groups to folder\n",
    "for(i in seq_along(unique(filtered_groups))) {\n",
    "  # copying\n",
    "  file = unique(filtered_groups)[i]\n",
    "  filename = file %>% str_split('/') %>% purrr::map_chr(5)\n",
    "  system(glue('cp {file} ../results/MEs_predicted_orfs_filtered_homologous_groups/{filename}'))\n",
    "  }"
   ]
  }
 ],
 "metadata": {
  "kernelspec": {
   "display_name": "R",
   "language": "R",
   "name": "ir"
  },
  "language_info": {
   "codemirror_mode": "r",
   "file_extension": ".r",
   "mimetype": "text/x-r-source",
   "name": "R",
   "pygments_lexer": "r",
   "version": "4.0.5"
  }
 },
 "nbformat": 4,
 "nbformat_minor": 4
}
